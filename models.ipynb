{
 "metadata": {
  "language_info": {
   "codemirror_mode": {
    "name": "ipython",
    "version": 3
   },
   "file_extension": ".py",
   "mimetype": "text/x-python",
   "name": "python",
   "nbconvert_exporter": "python",
   "pygments_lexer": "ipython3",
   "version": "3.8.8"
  },
  "orig_nbformat": 2,
  "kernelspec": {
   "name": "python388jvsc74a57bd066057fed053cfb35cdbc6ba2ea2926e1c5433485c4b2c3fbfc6095ea3d1e7403",
   "display_name": "Python 3.8.8 64-bit ('pytorch_env': conda)"
  },
  "metadata": {
   "interpreter": {
    "hash": "66057fed053cfb35cdbc6ba2ea2926e1c5433485c4b2c3fbfc6095ea3d1e7403"
   }
  }
 },
 "nbformat": 4,
 "nbformat_minor": 2,
 "cells": [
  {
   "cell_type": "code",
   "execution_count": 13,
   "metadata": {},
   "outputs": [
    {
     "output_type": "execute_result",
     "data": {
      "text/plain": [
       "linear_model_dropout(\n",
       "  (layers): Sequential(\n",
       "    (0): Linear(in_features=1, out_features=8, bias=True)\n",
       "    (1): Dropout(p=0.2, inplace=False)\n",
       "    (2): ReLU()\n",
       "    (3): Linear(in_features=8, out_features=16, bias=True)\n",
       "    (4): Dropout(p=0.2, inplace=False)\n",
       "    (5): ReLU()\n",
       "    (6): Linear(in_features=16, out_features=3, bias=True)\n",
       "    (7): Dropout(p=0.2, inplace=False)\n",
       "  )\n",
       ")"
      ]
     },
     "metadata": {},
     "execution_count": 13
    }
   ],
   "source": [
    "\"\"\"\n",
    "Simple linear model with and without dropout\n",
    "\"\"\"\n",
    "import torch.nn as nn\n",
    "\n",
    "num_classes = 3\n",
    "\n",
    "class linear_model(nn.Module):\n",
    "    def __init__(self):\n",
    "        super(linear_model, self).__init__()\n",
    "\n",
    "        self.layers = nn.Sequential(nn.Linear(1, 8),\n",
    "                                    nn.ReLU(),\n",
    "                                    nn.Linear(8, 16),\n",
    "                                    nn.ReLU(),\n",
    "                                    nn.Linear(16, num_classes),\n",
    "                                )\n",
    "\n",
    "    def forward(self, input):\n",
    "        output = self.layers(input)\n",
    "        return output\n",
    "\n",
    "model = linear_model()\n",
    "\n",
    "## With dropout\n",
    "class linear_model_dropout(nn.Module):\n",
    "    def __init__(self):\n",
    "        super(linear_model_dropout, self).__init__()\n",
    "\n",
    "        self.layers = nn.Sequential(nn.Linear(1, 8),\n",
    "                                    nn.Dropout(0.2),\n",
    "                                    nn.ReLU(),\n",
    "                                    nn.Linear(8, 16),\n",
    "                                    nn.Dropout(0.2),\n",
    "                                    nn.ReLU(),\n",
    "                                    nn.Linear(16, num_classes),\n",
    "                                    nn.Dropout(0.2)\n",
    "                                )\n",
    "\n",
    "    def forward(self, input):\n",
    "        output = self.layers(input)\n",
    "        return output\n",
    "\n",
    "model_dropout = linear_model_dropout()\n",
    "model_dropout"
   ]
  },
  {
   "cell_type": "code",
   "execution_count": 5,
   "metadata": {},
   "outputs": [
    {
     "output_type": "execute_result",
     "data": {
      "text/plain": [
       "CNN(\n",
       "  (conv1): Sequential(\n",
       "    (0): Conv2d(3, 16, kernel_size=(5, 5), stride=(1, 1), padding=(2, 2))\n",
       "    (1): ReLU()\n",
       "    (2): MaxPool2d(kernel_size=2, stride=2, padding=0, dilation=1, ceil_mode=False)\n",
       "  )\n",
       "  (conv2): Sequential(\n",
       "    (0): Conv2d(16, 32, kernel_size=(5, 5), stride=(1, 1), padding=(2, 2))\n",
       "    (1): ReLU()\n",
       "    (2): MaxPool2d(kernel_size=2, stride=2, padding=0, dilation=1, ceil_mode=False)\n",
       "  )\n",
       "  (classifier): Linear(in_features=1568, out_features=10, bias=True)\n",
       ")"
      ]
     },
     "metadata": {},
     "execution_count": 5
    }
   ],
   "source": [
    "\"\"\"\n",
    "Implementing a simple CNN model\n",
    "\"\"\"\n",
    "import torch.nn as nn\n",
    "\n",
    "class CNN(nn.Module):\n",
    "    def __init__(self):\n",
    "        super(CNN, self).__init__()\n",
    "        self.conv1 = nn.Sequential(\n",
    "            nn.Conv2d(in_channels=3, out_channels=16, kernel_size=5, stride=1, padding=2, dilation=1, groups=1, bias=True, padding_mode='zeros'),\n",
    "            nn.ReLU(),\n",
    "            nn.MaxPool2d(kernel_size=2),\n",
    "            ) # padding = (kernel_size-1)/2 if stride == 1; to keep the size the same\n",
    "        self.conv2 = nn.Sequential(\n",
    "            nn.Conv2d(in_channels=16, out_channels=32, kernel_size=5, stride=1, padding=2, dilation=1, groups=1, bias=True, padding_mode='zeros'),\n",
    "            nn.ReLU(),\n",
    "            nn.MaxPool2d(kernel_size=2),\n",
    "        )\n",
    "        self.classifier = nn.Linear(32*7*7, 10)\n",
    "\n",
    "    def forward(self, input):\n",
    "        x = self.conv1(input)\n",
    "        x = self.conv2(x)\n",
    "        x = x.view(x.size(0), -1)\n",
    "        output = self.classifier(x)\n",
    "        return output, input\n",
    "\n",
    "cnn = CNN() # initialize model"
   ]
  },
  {
   "cell_type": "code",
   "execution_count": 9,
   "metadata": {},
   "outputs": [
    {
     "output_type": "execute_result",
     "data": {
      "text/plain": [
       "AutoEncoder(\n",
       "  (encoder): Sequential(\n",
       "    (0): Linear(in_features=784, out_features=128, bias=True)\n",
       "    (1): Tanh()\n",
       "    (2): Linear(in_features=128, out_features=64, bias=True)\n",
       "    (3): Tanh()\n",
       "    (4): Linear(in_features=64, out_features=12, bias=True)\n",
       "    (5): Tanh()\n",
       "    (6): Linear(in_features=12, out_features=3, bias=True)\n",
       "  )\n",
       "  (decoder): Sequential(\n",
       "    (0): Linear(in_features=3, out_features=12, bias=True)\n",
       "    (1): Tanh()\n",
       "    (2): Linear(in_features=12, out_features=64, bias=True)\n",
       "    (3): Tanh()\n",
       "    (4): Linear(in_features=64, out_features=128, bias=True)\n",
       "    (5): Tanh()\n",
       "    (6): Linear(in_features=128, out_features=784, bias=True)\n",
       "    (7): Sigmoid()\n",
       "  )\n",
       ")"
      ]
     },
     "metadata": {},
     "execution_count": 9
    }
   ],
   "source": [
    "\"\"\"\n",
    "Implement and autoencoder model\n",
    "\"\"\"\n",
    "input_dim, output_dim = 28*28, 3\n",
    "class AutoEncoder(nn.Module):\n",
    "    def __init__(self):\n",
    "        super(AutoEncoder, self).__init__()\n",
    "\n",
    "        self.encoder = nn.Sequential(\n",
    "            nn.Linear(input_dim, 128),\n",
    "            nn.Tanh(),\n",
    "            nn.Linear(128, 64),\n",
    "            nn.Tanh(),\n",
    "            nn.Linear(64, 12),\n",
    "            nn.Tanh(),\n",
    "            nn.Linear(12, output_dim),\n",
    "        )\n",
    "\n",
    "        self.decoder = nn.Sequential(\n",
    "            nn.Linear(output_dim, 12),\n",
    "            nn.Tanh(),\n",
    "            nn.Linear(12, 64),\n",
    "            nn.Tanh(),\n",
    "            nn.Linear(64, 128),\n",
    "            nn.Tanh(),\n",
    "            nn.Linear(128, input_dim),\n",
    "            nn.Sigmoid(),\n",
    "        )\n",
    "\n",
    "    def forward(self, input):\n",
    "        encoded = self.encoder(input)\n",
    "        decoded = self.decoder(encoded)\n",
    "        return encoded, decoded\n",
    "\n",
    "autoencoder = AutoEncoder()\n",
    "autoencoder"
   ]
  },
  {
   "cell_type": "code",
   "execution_count": null,
   "metadata": {},
   "outputs": [],
   "source": [
    "\"\"\"\n",
    "Implement and convolutional autoencoder model\n",
    "\"\"\"\n",
    "\n",
    "class ConvAutoEncoder(nn.Module):\n",
    "    def __init__(self):\n",
    "        super(AutoEncoder, self).__init__()\n",
    "\n",
    "        self.encoder = nn.Seqential(\n",
    "            \n",
    "        )\n",
    "\n",
    "        self.decoder = nn.Seqential(\n",
    "            \n",
    "        )\n",
    "\n",
    "    def forward(self, input):\n",
    "        encoded = self.encoder(input)\n",
    "        decoded = self.decoder(encoded)\n",
    "        return encoded, decoded"
   ]
  },
  {
   "cell_type": "code",
   "execution_count": 2,
   "metadata": {},
   "outputs": [
    {
     "output_type": "execute_result",
     "data": {
      "text/plain": [
       "Sequential(\n",
       "  (0): Conv2d(3, 16, kernel_size=(4, 4), stride=(1, 1))\n",
       ")"
      ]
     },
     "metadata": {},
     "execution_count": 2
    }
   ],
   "source": [
    "\"\"\"\n",
    "Implementing a Recurrent Neural Network\n",
    "\n",
    "\"\"\"\n",
    "import torch.nn as nn\n",
    "\n",
    "class RNN(nn.Module):\n",
    "    def __init__(self):\n",
    "        super(RNN, self).__init__()\n",
    "\n",
    "        self.rnn = nn.LSTM(input_size = INPUT_SIZE,\n",
    "                            hidden_size = HIDDEN_SIZE,\n",
    "                            num_layers = NUM_LAYERS,\n",
    "                            batch_first = True,)\n",
    "        self.classifier = nn.Linear(hidden_size, num_classes)\n",
    "\n",
    "    def forward(self, input):\n",
    "        # input: (batch_size, time_steps, input_size)\n",
    "        # r_out: (batch, time_steps, output_size)\n",
    "        # h_n: (num_layers, batch, hidden_size)\n",
    "        # h_c: (num_layers, batch, hidden_size)\n",
    "\n",
    "        r_out, (h_n, h_c) = self.rnn(input, None) # None is zero initial hidden state this can be initialized to something different\n",
    "\n",
    "        outputs = []\n",
    "        for time_step in range(r_out.size(1)):\n",
    "            outputs.append(self.classifier(r_out[:, time_step, :]))\n",
    "        return outputs\n",
    "\n",
    "        rnn = RNN()\n"
   ]
  },
  {
   "cell_type": "code",
   "execution_count": null,
   "metadata": {},
   "outputs": [],
   "source": [
    "\"\"\"\n",
    "A Transformer model\n",
    "\"\"\""
   ]
  }
 ]
}