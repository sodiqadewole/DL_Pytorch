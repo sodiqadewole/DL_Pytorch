{
 "metadata": {
  "language_info": {
   "codemirror_mode": {
    "name": "ipython",
    "version": 3
   },
   "file_extension": ".py",
   "mimetype": "text/x-python",
   "name": "python",
   "nbconvert_exporter": "python",
   "pygments_lexer": "ipython3",
   "version": "3.8.8"
  },
  "orig_nbformat": 2,
  "kernelspec": {
   "name": "python388jvsc74a57bd066057fed053cfb35cdbc6ba2ea2926e1c5433485c4b2c3fbfc6095ea3d1e7403",
   "display_name": "Python 3.8.8 64-bit ('pytorch_env': conda)"
  },
  "metadata": {
   "interpreter": {
    "hash": "66057fed053cfb35cdbc6ba2ea2926e1c5433485c4b2c3fbfc6095ea3d1e7403"
   }
  }
 },
 "nbformat": 4,
 "nbformat_minor": 2,
 "cells": [
  {
   "cell_type": "code",
   "execution_count": 16,
   "metadata": {},
   "outputs": [],
   "source": [
    "import torch\n",
    "import numpy as np"
   ]
  },
  {
   "cell_type": "code",
   "execution_count": 4,
   "metadata": {},
   "outputs": [
    {
     "output_type": "execute_result",
     "data": {
      "text/plain": [
       "False"
      ]
     },
     "metadata": {},
     "execution_count": 4
    }
   ],
   "source": [
    "x = [12, 23,34,45,56,67,78]\n",
    "torch.is_tensor(x)\n",
    "torch.is_storage(x)"
   ]
  },
  {
   "cell_type": "code",
   "execution_count": 9,
   "metadata": {},
   "outputs": [
    {
     "output_type": "execute_result",
     "data": {
      "text/plain": [
       "120"
      ]
     },
     "metadata": {},
     "execution_count": 9
    }
   ],
   "source": [
    "y = torch.randn(1,2,3,4,5)\n",
    "torch.numel(y) # total number of elements in the tensor\n",
    "torch.zeros(4,4,4) # matrix of all zeros\n",
    "torch.eye(4,4) # Identity matrix\n",
    "torch.from_numpy(np.random.rand(4,4)) # generate tensors from numpy array\n",
    "torch.linspace(2, 10, steps=20) # linear spacing\n",
    "torch.logspace(start=-10, end=10, steps=30) # log spacing\n",
    "torch.rand(10) # random numbers between 0 and 1\n",
    "torch.rand(5,5)\n",
    "torch.randn(10) # random numbers from a normal distribution with mean=0, sd=1\n",
    "torch.randn(5,5)\n",
    "torch.randperm(20) # random permutation of selected values from a range(10)\n",
    "torch.arange(10) # list of range of numbers steps by 1\n",
    "torch.arange(10, 50, 2) # list of range of numbers steps by 2\n",
    "torch.argmin(torch.randn(20, 10), dim=0) # find the index of the minimum number in the matrix along the x axis\n",
    "torch.argmax(torch.randn(20, 10), dim=1) # find the index of the maximum number in the matrix along the y axis\n",
    "torch.cat((torch.randn(5,5), torch.randn(5,5)), dim=0) # concatenate two tensors ~ vstack\n",
    "torch.chunk(torch.randn(6,6), 2, dim=1) # splitting a tensor into chunks along dim\n",
    "torch.gather(torch.Tensor([[10, 12],[13,14]]), 1, torch.LongTensor([[0,0],[1,0]])) # gather elements of a tensor by index; can be used to shuffle or maxpool\n",
    "# torch.index_select(matrix, dim, indeces)\n",
    "torch.nonzero(torch.tensor([10, 0, 23, 0, 0.0])) # select the indices of non zero elements of a tensor\n",
    "torch.split(torch.tensor([12,21,38,32,45,58,63]), 3) # split a tensor into specified number of tensors\n",
    "torch.rand(4,3).t() # transpose of a tensor\n",
    "torch.unbind(torch.randn(5,4), 0) # loose a tensor up along a dim into tupple of tensors\n",
    "torch.add(torch.randn(5,4), torch.ones(5,4))\n",
    "torch.mul(torch.rand(5,4), 2) # scalar multiplication\n",
    "torch.manual_seed(12)\n",
    "torch.ceil(torch.randn(5,4)) # round up elements of a tensor\n",
    "torch.floor(torch.randn(5,4)) # round down elements of a tensor\n",
    "torch.clamp(torch.randn(6,6), min=0.1) # truncate a lower limit of an array\n",
    "torch.clamp(torch.randn(6,6), max=0.1) # truncate a upper limit of an array\n",
    "torch.exp(torch.rand(2,2)) # exponentiation of a tensor\n",
    "torch.frac(torch.rand(3,3)) # get the fractional portion of a matrix element\n",
    "torch.log(torch.rand(3,3))\n",
    "torch.pow(torch.rand(3,3), 2)\n",
    "torch.sigmoid(torch.rand(3,3))\n",
    "torch.sqrt(torch.rand(3,3))"
   ]
  },
  {
   "cell_type": "code",
   "execution_count": 97,
   "metadata": {},
   "outputs": [
    {
     "output_type": "execute_result",
     "data": {
      "text/plain": [
       "tensor([0.5000, 0.7119, 0.5014, 1.7898, 4.2058, 4.7922, 0.8954])"
      ]
     },
     "metadata": {},
     "execution_count": 97
    }
   ],
   "source": [
    "torch.Tensor(5,5).uniform_(0,1) # random 5,5 array from a uniform random distribution between 0 and 1\n",
    "torch.bernoulli(torch.Tensor(3,3).uniform_(0,1)) # compute bernoulli sample from a uniform distribution samples\n",
    "torch.multinomial(torch.randperm(16, dtype=torch.float64), 4, replacement=True) # select sample from a multinomial distribution\n",
    "torch.normal(mean=0.5, std=torch.arange(0., 7.)) # generate multivariate normal distribution with same mean"
   ]
  },
  {
   "cell_type": "code",
   "execution_count": 104,
   "metadata": {},
   "outputs": [
    {
     "output_type": "execute_result",
     "data": {
      "text/plain": [
       "tensor([0.1470, 0.0143, 0.2049])"
      ]
     },
     "metadata": {},
     "execution_count": 104
    }
   ],
   "source": [
    "torch.mean(torch.rand(5,5))\n",
    "torch.median(torch.rand(5,5))\n",
    "torch.mode(torch.rand(3,3))\n",
    "torch.std(torch.rand(3,3), dim=1)\n",
    "torch.var(torch.rand(3,3), dim=0)"
   ]
  },
  {
   "cell_type": "code",
   "execution_count": 110,
   "metadata": {},
   "outputs": [
    {
     "output_type": "execute_result",
     "data": {
      "text/plain": [
       "tensor([8.8965])"
      ]
     },
     "metadata": {},
     "execution_count": 110
    }
   ],
   "source": [
    "from torch.distributions import Laplace\n",
    "dist = Laplace(torch.tensor([10.0]), torch.tensor([0.990]))\n",
    "dist.sample()"
   ]
  },
  {
   "cell_type": "code",
   "execution_count": 111,
   "metadata": {},
   "outputs": [
    {
     "output_type": "execute_result",
     "data": {
      "text/plain": [
       "tensor([0., 0., 1.])"
      ]
     },
     "metadata": {},
     "execution_count": 111
    }
   ],
   "source": [
    "from torch.distributions import Bernoulli\n",
    "dist = Bernoulli(torch.tensor([0.3, 0.6, 0.9]))\n",
    "dist.sample()"
   ]
  },
  {
   "cell_type": "code",
   "execution_count": 112,
   "metadata": {},
   "outputs": [
    {
     "output_type": "execute_result",
     "data": {
      "text/plain": [
       "tensor(4)"
      ]
     },
     "metadata": {},
     "execution_count": 112
    }
   ],
   "source": [
    "from torch.distributions import Categorical\n",
    "dist = Categorical(torch.tensor([.2, .2, .2, .2, .2]))\n",
    "dist.sample()"
   ]
  },
  {
   "cell_type": "code",
   "execution_count": 113,
   "metadata": {},
   "outputs": [
    {
     "output_type": "execute_result",
     "data": {
      "text/plain": [
       "tensor([12., 21., 44., 50.])"
      ]
     },
     "metadata": {},
     "execution_count": 113
    }
   ],
   "source": [
    "from torch.distributions import Binomial\n",
    "dist = Binomial(50, torch.tensor([0.2, 0.5, 0.8, 1]))\n",
    "dist.sample()"
   ]
  },
  {
   "cell_type": "code",
   "execution_count": 114,
   "metadata": {},
   "outputs": [
    {
     "output_type": "execute_result",
     "data": {
      "text/plain": [
       "tensor([7.5891])"
      ]
     },
     "metadata": {},
     "execution_count": 114
    }
   ],
   "source": [
    "from torch.distributions.normal import Normal\n",
    "dist = Normal(torch.tensor([10.]), torch.tensor([2.]))\n",
    "dist.sample()"
   ]
  },
  {
   "cell_type": "code",
   "execution_count": 115,
   "metadata": {},
   "outputs": [
    {
     "output_type": "execute_result",
     "data": {
      "text/plain": [
       "tensor([0.9987])"
      ]
     },
     "metadata": {},
     "execution_count": 115
    }
   ],
   "source": [
    "from torch.distributions import Beta\n",
    "dist = Beta(torch.tensor([0.3]), torch.tensor([0.2]))\n",
    "dist.sample()\n"
   ]
  },
  {
   "cell_type": "code",
   "execution_count": null,
   "metadata": {},
   "outputs": [],
   "source": []
  }
 ]
}